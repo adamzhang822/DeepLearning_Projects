{
 "cells": [
  {
   "cell_type": "code",
   "execution_count": 1,
   "metadata": {},
   "outputs": [
    {
     "data": {
      "image/png": "[encoded data removed]",
      "text/plain": [
       "<Figure size 432x288 with 1 Axes>"
      ]
     },
     "metadata": {
      "needs_background": "light"
     },
     "output_type": "display_data"
    }
   ],
   "source": [
    "import numpy as np\n",
    "import matplotlib.pyplot as plt\n",
    "import edf\n",
    "import mnist_loader\n",
    "\n",
    "train_images, train_labels = mnist_loader.load_mnist(section = 'training', path = 'MNIST')\n",
    "test_images, test_labels = mnist_loader.load_mnist(section = 'testing', path = 'MNIST')\n",
    "\n",
    "plt.imshow(train_images[0], cmap='gray', interpolation = 'nearest')\n",
    "plt.show()"
   ]
  },
  {
   "cell_type": "code",
   "execution_count": 2,
   "metadata": {},
   "outputs": [],
   "source": [
    "\"\"\"we will reshape the 28x28 grayscale images as \n",
    "784-dimensional vectors, which will be the network's inputs\"\"\"\n",
    "\n",
    "train_images = train_images.reshape(len(train_images), -1)\n",
    "test_images = test_images.reshape(len(test_images), -1)"
   ]
  },
  {
   "cell_type": "code",
   "execution_count": 3,
   "metadata": {},
   "outputs": [],
   "source": [
    "\"\"\"we manually set the number of input features (784)\n",
    "and number of classes (10) which will be used to\n",
    "define the model\"\"\"\n",
    "\n",
    "nInputs = 784\n",
    "nLabels = 10\n",
    "\n",
    "\"\"\"below, MLPparams is an EDF ParameterPackage whose\n",
    "purpose is to define and store the parameters of the model,\n",
    "while MLPgraph is a function that implements the model's\n",
    "forward pass -- in this case, just a 1-hidden layer MLP\"\"\"\n",
    "\n",
    "class MLPparams(edf.ParameterPackage):\n",
    "    def __init__(self,nInputs, nHiddens, nLabels):\n",
    "        self.first = edf.AffineParams(nInputs,nHiddens)\n",
    "        self.last = edf.AffineParams(nHiddens,nLabels)\n",
    "        \n",
    "def MLPsigmoidgraph(Phi, x):\n",
    "    h = edf.Sigmoid(edf.Affine(Phi.first, x))\n",
    "    return edf.Softmax(edf.Affine(Phi.last, h))\n",
    "\n",
    "\"\"\"we then construct a MLP with 64 hidden units\"\"\"\n",
    "\n",
    "np.random.seed(1234)\n",
    "edf.clear_compgraph()\n",
    "xnode = edf.Input()\n",
    "ynode = edf.Input()\n",
    "nHiddens = 64\n",
    "Phi = MLPparams(nInputs, nHiddens, nLabels)\n",
    "probnode = MLPsigmoidgraph(Phi, xnode)\n",
    "lossnode = edf.LogLoss(probnode, ynode)"
   ]
  },
  {
   "cell_type": "code",
   "execution_count": 4,
   "metadata": {},
   "outputs": [],
   "source": [
    "\"\"\"the following functions are used to train the network.\n",
    "training is done by iterating over mini-batches of size 'batch_size'\n",
    "and updating the model's parameters with SGD\"\"\"\n",
    "\n",
    "def run_epoch(batch_size, data, labels, xnode, ynode, probnode, lossnode=None):\n",
    "    num_samples = len(data)\n",
    "    total_err = 0.0\n",
    "    num_batches = num_samples//batch_size\n",
    "    for i in range(num_batches):\n",
    "        start, end = i*batch_size, (i+1)*batch_size\n",
    "        xnode.value = train_images[start:end]\n",
    "        ynode.value = train_labels[start:end]\n",
    "        edf.Forward()\n",
    "        total_err += np.sum(np.not_equal(np.argmax(probnode.value, axis=1), ynode.value))\n",
    "        if lossnode:\n",
    "            edf.Backward(lossnode)\n",
    "            edf.SGD()\n",
    "        if i>0 and i%400 == 0:\n",
    "            print (\"\\t Batch {}/{}\".format(i, num_batches))\n",
    "    return 100*total_err/num_samples\n",
    "\n",
    "def train(num_epochs, batch_size, xnode, ynode, probnode, lossnode):\n",
    "    train_err_log = []\n",
    "    test_err_log = []\n",
    "    for epoch in range(num_epochs):\n",
    "        print(\"Epoch: {}/{}\".format(epoch+1, num_epochs))\n",
    "        train_err = run_epoch(batch_size, train_images, train_labels, xnode, ynode, probnode, lossnode)\n",
    "        train_err_log.append(train_err)\n",
    "        print (\"\\t Training Error {:.2f} %\".format(train_err))\n",
    "        test_err = run_epoch(len(test_images), test_images, test_labels, xnode, ynode, probnode)\n",
    "        test_err_log.append(test_err)\n",
    "        print (\"\\t Test Error {:.2f} %\".format(test_err))\n",
    "    return train_err_log, test_err_log"
   ]
  },
  {
   "cell_type": "code",
   "execution_count": 5,
   "metadata": {},
   "outputs": [
    {
     "name": "stdout",
     "output_type": "stream",
     "text": [
      "Epoch: 1/10\n",
      "\t Batch 400/937\n",
      "\t Batch 800/937\n",
      "\t Training Error 11.51 %\n",
      "\t Test Error 7.89 %\n",
      "Epoch: 2/10\n",
      "\t Batch 400/937\n",
      "\t Batch 800/937\n",
      "\t Training Error 6.37 %\n",
      "\t Test Error 5.77 %\n",
      "Epoch: 3/10\n",
      "\t Batch 400/937\n",
      "\t Batch 800/937\n",
      "\t Training Error 5.00 %\n",
      "\t Test Error 4.56 %\n",
      "Epoch: 4/10\n",
      "\t Batch 400/937\n",
      "\t Batch 800/937\n",
      "\t Training Error 4.10 %\n",
      "\t Test Error 3.78 %\n",
      "Epoch: 5/10\n",
      "\t Batch 400/937\n",
      "\t Batch 800/937\n",
      "\t Training Error 3.49 %\n",
      "\t Test Error 3.25 %\n",
      "Epoch: 6/10\n",
      "\t Batch 400/937\n",
      "\t Batch 800/937\n",
      "\t Training Error 3.09 %\n",
      "\t Test Error 2.85 %\n",
      "Epoch: 7/10\n",
      "\t Batch 400/937\n",
      "\t Batch 800/937\n",
      "\t Training Error 2.78 %\n",
      "\t Test Error 2.60 %\n",
      "Epoch: 8/10\n",
      "\t Batch 400/937\n",
      "\t Batch 800/937\n",
      "\t Training Error 2.49 %\n",
      "\t Test Error 2.35 %\n",
      "Epoch: 9/10\n",
      "\t Batch 400/937\n",
      "\t Batch 800/937\n",
      "\t Training Error 2.24 %\n",
      "\t Test Error 2.20 %\n",
      "Epoch: 10/10\n",
      "\t Batch 400/937\n",
      "\t Batch 800/937\n",
      "\t Training Error 2.01 %\n",
      "\t Test Error 2.06 %\n"
     ]
    }
   ],
   "source": [
    "\"\"\"now, we are ready to train the network. we can choose SGD's learning rate\n",
    "by changing edf.learning_rate, which we will set as 0.5 for now.\"\"\"\n",
    "\n",
    "num_epochs = 10\n",
    "batch_size = 64\n",
    "edf.learning_rate = 0.5\n",
    "train_err_log, test_err_log = train(num_epochs, batch_size, xnode, ynode, probnode, lossnode)"
   ]
  },
  {
   "cell_type": "code",
   "execution_count": 11,
   "metadata": {},
   "outputs": [
    {
     "data": {
      "image/png": "[encoded data removed]",
      "text/plain": [
       "<Figure size 432x288 with 1 Axes>"
      ]
     },
     "metadata": {
      "needs_background": "light"
     },
     "output_type": "display_data"
    },
    {
     "data": {
      "text/plain": [
       "<Figure size 432x288 with 0 Axes>"
      ]
     },
     "metadata": {},
     "output_type": "display_data"
    }
   ],
   "source": [
    "\"\"\"we can then plot the error per epoch on the training and test data\"\"\"\n",
    "\n",
    "plt.xlabel(\"epochs\")\n",
    "plt.ylabel(\"error (%)\")\n",
    "plt.plot(np.arange(len(test_err_log)), test_err_log, color='red')\n",
    "plt.plot(np.arange(len(train_err_log)), train_err_log, color='blue')\n",
    "plt.legend(['test error', 'train error'], loc='upper right')\n",
    "plt.show()\n",
    "plt.clf()"
   ]
  },
  {
   "cell_type": "code",
   "execution_count": 16,
   "metadata": {},
   "outputs": [],
   "source": [
    "\"\"\"next, you have to implement a ReLU activation function ReLU(x) = max(0,x).\n",
    "implement the forward and backward methods of the following class. use the\n",
    "provided EDF source code to understand what each method should do. note that\n",
    "since ReLU has no parameters, it might be helpful to base your implementation\n",
    "on how the Sigmoid EDF CompNode is implemented.\"\"\"\n",
    "\n",
    "\n",
    "class ReLU(edf.CompNode):\n",
    "    def __init__(self, x):\n",
    "        edf.CompNodes.append(self)\n",
    "        self.x = x\n",
    "    def forward(self):\n",
    "        self.value = (self.x.value * (self.x.value >0)).astype(float)\n",
    "    def backward(self):\n",
    "        self.x.addgrad(self.grad * (self.x.value>=0))"
   ]
  },
  {
   "cell_type": "code",
   "execution_count": 17,
   "metadata": {},
   "outputs": [
    {
     "data": {
      "image/png": "[encoded data removed]",
      "text/plain": [
       "<Figure size 432x288 with 1 Axes>"
      ]
     },
     "metadata": {
      "needs_background": "light"
     },
     "output_type": "display_data"
    },
    {
     "data": {
      "text/plain": [
       "<Figure size 432x288 with 0 Axes>"
      ]
     },
     "metadata": {},
     "output_type": "display_data"
    }
   ],
   "source": [
    "\"\"\"the code below will plot the output and gradients computed by your\n",
    "implementation of the ReLU component above. check if the plots match\n",
    "ReLU(x) and dReLU/dx(x) as a sanity test of your implementation.\"\"\"\n",
    "\n",
    "values = np.linspace(-2,2,100)\n",
    "edf.clear_compgraph()\n",
    "param = edf.Parameter(values[None, :])\n",
    "output = ReLU(param)\n",
    "\n",
    "edf.Forward()\n",
    "edf.Backward(output)\n",
    "\n",
    "plt.xlabel(\"value\")\n",
    "plt.plot(values, output.value[0], color='red')\n",
    "plt.plot(values, param.grad[0], color='blue')\n",
    "plt.legend(['output', 'grad'], loc='upper left')\n",
    "plt.show()\n",
    "plt.clf()"
   ]
  },
  {
   "cell_type": "code",
   "execution_count": 18,
   "metadata": {},
   "outputs": [],
   "source": [
    "\"\"\"now, train the same network as before but with a ReLU activation\n",
    "in the hidden layer instead of a Sigmoid.\"\"\"\n",
    "\n",
    "def MLPrelugraph(Phi, x):\n",
    "    h = ReLU(edf.Affine(Phi.first, x))\n",
    "    return edf.Softmax(edf.Affine(Phi.last, h))\n",
    "\n",
    "np.random.seed(1234)\n",
    "edf.clear_compgraph()\n",
    "xnode = edf.Input()\n",
    "ynode = edf.Input()\n",
    "nHiddens = 64\n",
    "Phi = MLPparams(nInputs, nHiddens, nLabels)\n",
    "probnode = MLPrelugraph(Phi, xnode)\n",
    "lossnode = edf.LogLoss(probnode, ynode)"
   ]
  },
  {
   "cell_type": "code",
   "execution_count": 19,
   "metadata": {},
   "outputs": [
    {
     "name": "stdout",
     "output_type": "stream",
     "text": [
      "Epoch: 1/10\n",
      "\t Batch 400/937\n",
      "\t Batch 800/937\n",
      "\t Training Error 7.99 %\n",
      "\t Test Error 6.50 %\n",
      "Epoch: 2/10\n",
      "\t Batch 400/937\n",
      "\t Batch 800/937\n",
      "\t Training Error 3.70 %\n",
      "\t Test Error 4.08 %\n",
      "Epoch: 3/10\n",
      "\t Batch 400/937\n",
      "\t Batch 800/937\n",
      "\t Training Error 2.72 %\n",
      "\t Test Error 2.79 %\n",
      "Epoch: 4/10\n",
      "\t Batch 400/937\n",
      "\t Batch 800/937\n",
      "\t Training Error 2.16 %\n",
      "\t Test Error 2.49 %\n",
      "Epoch: 5/10\n",
      "\t Batch 400/937\n",
      "\t Batch 800/937\n",
      "\t Training Error 1.79 %\n",
      "\t Test Error 2.12 %\n",
      "Epoch: 6/10\n",
      "\t Batch 400/937\n",
      "\t Batch 800/937\n",
      "\t Training Error 1.50 %\n",
      "\t Test Error 2.00 %\n",
      "Epoch: 7/10\n",
      "\t Batch 400/937\n",
      "\t Batch 800/937\n",
      "\t Training Error 1.36 %\n",
      "\t Test Error 2.20 %\n",
      "Epoch: 8/10\n",
      "\t Batch 400/937\n",
      "\t Batch 800/937\n",
      "\t Training Error 1.10 %\n",
      "\t Test Error 1.88 %\n",
      "Epoch: 9/10\n",
      "\t Batch 400/937\n",
      "\t Batch 800/937\n",
      "\t Training Error 0.99 %\n",
      "\t Test Error 1.57 %\n",
      "Epoch: 10/10\n",
      "\t Batch 400/937\n",
      "\t Batch 800/937\n",
      "\t Training Error 0.85 %\n",
      "\t Test Error 1.31 %\n"
     ]
    }
   ],
   "source": [
    "num_epochs = 10\n",
    "batch_size = 64\n",
    "edf.learning_rate = 0.5\n",
    "train_err_log, test_err_log = train(num_epochs, batch_size, xnode, ynode, probnode, lossnode)"
   ]
  },
  {
   "cell_type": "code",
   "execution_count": 20,
   "metadata": {},
   "outputs": [
    {
     "data": {
      "image/png": "[encoded data removed]",
      "text/plain": [
       "<Figure size 432x288 with 1 Axes>"
      ]
     },
     "metadata": {
      "needs_background": "light"
     },
     "output_type": "display_data"
    },
    {
     "data": {
      "text/plain": [
       "<Figure size 432x288 with 0 Axes>"
      ]
     },
     "metadata": {},
     "output_type": "display_data"
    }
   ],
   "source": [
    "plt.xlabel(\"epochs\")\n",
    "plt.ylabel(\"error (%)\")\n",
    "plt.plot(np.arange(len(test_err_log)), test_err_log, color='red')\n",
    "plt.plot(np.arange(len(train_err_log)), train_err_log, color='blue')\n",
    "plt.legend(['test error', 'train error'], loc='upper right')\n",
    "plt.show()\n",
    "plt.clf()"
   ]
  },
  {
   "cell_type": "code",
   "execution_count": 21,
   "metadata": {},
   "outputs": [],
   "source": [
    "\"\"\"now, implement the Tanh activation function by filling the missing\n",
    "code in the forward and backward methods below. it might be helpful to derive\n",
    "a relationship between Tanh and Sigmoid so that you can re-use parts of \n",
    "EDF's Sigmoid code.\"\"\"\n",
    "\n",
    "class Tanh(edf.CompNode):\n",
    "    def __init__(self, x):\n",
    "        edf.CompNodes.append(self)\n",
    "        self.x = x\n",
    "\n",
    "    def forward(self):\n",
    "        bounded = np.maximum(-10,np.minimum(10,2*self.x.value))\n",
    "        self.value = 2* (1/(1+np.exp(-bounded))) - 1\n",
    "\n",
    "    def backward(self):\n",
    "        self.x.addgrad(self.grad * 4 * ((self.value+1)/2) *((1-self.value)/2))"
   ]
  },
  {
   "cell_type": "code",
   "execution_count": 22,
   "metadata": {},
   "outputs": [
    {
     "data": {
      "image/png": "[encoded data removed]",
      "text/plain": [
       "<Figure size 432x288 with 1 Axes>"
      ]
     },
     "metadata": {
      "needs_background": "light"
     },
     "output_type": "display_data"
    },
    {
     "data": {
      "text/plain": [
       "<Figure size 432x288 with 0 Axes>"
      ]
     },
     "metadata": {},
     "output_type": "display_data"
    }
   ],
   "source": [
    "\"\"\"again, make sure that the output and gradients plotted below are correct.\"\"\"\n",
    "\n",
    "values = np.linspace(-5,5,100)\n",
    "edf.clear_compgraph()\n",
    "param = edf.Parameter(values[None, :])\n",
    "output = Tanh(param)\n",
    "\n",
    "edf.Forward()\n",
    "edf.Backward(output)\n",
    "\n",
    "plt.xlabel(\"value\")\n",
    "plt.plot(values, output.value[0], color='red')\n",
    "plt.plot(values, param.grad[0], color='blue')\n",
    "plt.legend(['output', 'grad'], loc='upper left')\n",
    "plt.show()\n",
    "plt.clf()"
   ]
  },
  {
   "cell_type": "code",
   "execution_count": 23,
   "metadata": {},
   "outputs": [],
   "source": [
    "\"\"\"you can then train a network with a Tanh activation function instead\n",
    "of Sigmoid/ReLU.\"\"\"\n",
    "\n",
    "def MLPtanhgraph(Phi, x):\n",
    "    h = Tanh(edf.Affine(Phi.first, x))\n",
    "    return edf.Softmax(edf.Affine(Phi.last, h))\n",
    "\n",
    "np.random.seed(1234)\n",
    "edf.clear_compgraph()\n",
    "xnode = edf.Input()\n",
    "ynode = edf.Input()\n",
    "nHiddens = 64\n",
    "Phi = MLPparams(nInputs, nHiddens, nLabels)\n",
    "probnode = MLPtanhgraph(Phi, xnode)\n",
    "lossnode = edf.LogLoss(probnode, ynode)"
   ]
  },
  {
   "cell_type": "code",
   "execution_count": 24,
   "metadata": {},
   "outputs": [
    {
     "name": "stdout",
     "output_type": "stream",
     "text": [
      "Epoch: 1/10\n",
      "\t Batch 400/937\n",
      "\t Batch 800/937\n",
      "\t Training Error 8.29 %\n",
      "\t Test Error 6.01 %\n",
      "Epoch: 2/10\n",
      "\t Batch 400/937\n",
      "\t Batch 800/937\n",
      "\t Training Error 4.21 %\n",
      "\t Test Error 4.13 %\n",
      "Epoch: 3/10\n",
      "\t Batch 400/937\n",
      "\t Batch 800/937\n",
      "\t Training Error 3.05 %\n",
      "\t Test Error 2.93 %\n",
      "Epoch: 4/10\n",
      "\t Batch 400/937\n",
      "\t Batch 800/937\n",
      "\t Training Error 2.38 %\n",
      "\t Test Error 2.26 %\n",
      "Epoch: 5/10\n",
      "\t Batch 400/937\n",
      "\t Batch 800/937\n",
      "\t Training Error 1.95 %\n",
      "\t Test Error 1.82 %\n",
      "Epoch: 6/10\n",
      "\t Batch 400/937\n",
      "\t Batch 800/937\n",
      "\t Training Error 1.60 %\n",
      "\t Test Error 1.60 %\n",
      "Epoch: 7/10\n",
      "\t Batch 400/937\n",
      "\t Batch 800/937\n",
      "\t Training Error 1.31 %\n",
      "\t Test Error 1.41 %\n",
      "Epoch: 8/10\n",
      "\t Batch 400/937\n",
      "\t Batch 800/937\n",
      "\t Training Error 1.07 %\n",
      "\t Test Error 1.28 %\n",
      "Epoch: 9/10\n",
      "\t Batch 400/937\n",
      "\t Batch 800/937\n",
      "\t Training Error 0.84 %\n",
      "\t Test Error 1.20 %\n",
      "Epoch: 10/10\n",
      "\t Batch 400/937\n",
      "\t Batch 800/937\n",
      "\t Training Error 0.66 %\n",
      "\t Test Error 1.21 %\n"
     ]
    }
   ],
   "source": [
    "num_epochs = 10\n",
    "batch_size = 64\n",
    "edf.learning_rate = 0.5\n",
    "train_err_log, test_err_log = train(num_epochs, batch_size, xnode, ynode, probnode, lossnode)"
   ]
  },
  {
   "cell_type": "code",
   "execution_count": 25,
   "metadata": {},
   "outputs": [
    {
     "data": {
      "image/png": "[encoded data removed]",
      "text/plain": [
       "<Figure size 432x288 with 1 Axes>"
      ]
     },
     "metadata": {
      "needs_background": "light"
     },
     "output_type": "display_data"
    },
    {
     "data": {
      "text/plain": [
       "<Figure size 432x288 with 0 Axes>"
      ]
     },
     "metadata": {},
     "output_type": "display_data"
    }
   ],
   "source": [
    "plt.xlabel(\"epochs\")\n",
    "plt.ylabel(\"error (%)\")\n",
    "plt.plot(np.arange(len(test_err_log)), test_err_log, color='red')\n",
    "plt.plot(np.arange(len(train_err_log)), train_err_log, color='blue')\n",
    "plt.legend(['test error', 'train error'], loc='upper right')\n",
    "plt.show()\n",
    "plt.clf()"
   ]
  },
  {
   "cell_type": "code",
   "execution_count": 30,
   "metadata": {},
   "outputs": [
    {
     "name": "stdout",
     "output_type": "stream",
     "text": [
      "Epoch: 1/5\n",
      "\t Batch 400/937\n",
      "\t Batch 800/937\n",
      "\t Training Error 11.90 %\n",
      "\t Test Error 7.51 %\n",
      "Epoch: 2/5\n",
      "\t Batch 400/937\n",
      "\t Batch 800/937\n",
      "\t Training Error 5.98 %\n",
      "\t Test Error 6.27 %\n",
      "Epoch: 3/5\n",
      "\t Batch 400/937\n",
      "\t Batch 800/937\n",
      "\t Training Error 5.00 %\n",
      "\t Test Error 5.59 %\n",
      "Epoch: 4/5\n",
      "\t Batch 400/937\n",
      "\t Batch 800/937\n",
      "\t Training Error 4.41 %\n",
      "\t Test Error 4.72 %\n",
      "Epoch: 5/5\n",
      "\t Batch 400/937\n",
      "\t Batch 800/937\n",
      "\t Training Error 3.87 %\n",
      "\t Test Error 4.53 %\n",
      "Epoch: 1/5\n",
      "\t Batch 400/937\n",
      "\t Batch 800/937\n",
      "\t Training Error 2.97 %\n",
      "\t Test Error 2.87 %\n",
      "Epoch: 2/5\n",
      "\t Batch 400/937\n",
      "\t Batch 800/937\n",
      "\t Training Error 2.59 %\n",
      "\t Test Error 2.62 %\n",
      "Epoch: 3/5\n",
      "\t Batch 400/937\n",
      "\t Batch 800/937\n",
      "\t Training Error 2.42 %\n",
      "\t Test Error 2.47 %\n",
      "Epoch: 4/5\n",
      "\t Batch 400/937\n",
      "\t Batch 800/937\n",
      "\t Training Error 2.27 %\n",
      "\t Test Error 2.27 %\n",
      "Epoch: 5/5\n",
      "\t Batch 400/937\n",
      "\t Batch 800/937\n",
      "\t Training Error 2.12 %\n",
      "\t Test Error 2.14 %\n",
      "Epoch: 1/5\n",
      "\t Batch 400/937\n",
      "\t Batch 800/937\n",
      "\t Training Error 1.95 %\n",
      "\t Test Error 2.03 %\n",
      "Epoch: 2/5\n",
      "\t Batch 400/937\n",
      "\t Batch 800/937\n",
      "\t Training Error 1.88 %\n",
      "\t Test Error 1.94 %\n",
      "Epoch: 3/5\n",
      "\t Batch 400/937\n",
      "\t Batch 800/937\n",
      "\t Training Error 1.82 %\n",
      "\t Test Error 1.85 %\n",
      "Epoch: 4/5\n",
      "\t Batch 400/937\n",
      "\t Batch 800/937\n",
      "\t Training Error 1.78 %\n",
      "\t Test Error 1.84 %\n",
      "Epoch: 5/5\n",
      "\t Batch 400/937\n",
      "\t Batch 800/937\n",
      "\t Training Error 1.74 %\n",
      "\t Test Error 1.83 %\n",
      "Epoch: 1/5\n",
      "\t Batch 400/937\n",
      "\t Batch 800/937\n",
      "\t Training Error 1.65 %\n",
      "\t Test Error 1.70 %\n",
      "Epoch: 2/5\n",
      "\t Batch 400/937\n",
      "\t Batch 800/937\n",
      "\t Training Error 1.62 %\n",
      "\t Test Error 1.63 %\n",
      "Epoch: 3/5\n",
      "\t Batch 400/937\n",
      "\t Batch 800/937\n",
      "\t Training Error 1.60 %\n",
      "\t Test Error 1.59 %\n",
      "Epoch: 4/5\n",
      "\t Batch 400/937\n",
      "\t Batch 800/937\n",
      "\t Training Error 1.59 %\n",
      "\t Test Error 1.57 %\n",
      "Epoch: 5/5\n",
      "\t Batch 400/937\n",
      "\t Batch 800/937\n",
      "\t Training Error 1.57 %\n",
      "\t Test Error 1.56 %\n"
     ]
    }
   ],
   "source": [
    "\"\"\"next, let's check how changing the learning rate affects\n",
    "the model's train and test error. you should implement a way\n",
    "to collect the network's final train/test errors for each of\n",
    "the learning rates in the array below. you should do this for\n",
    "MLPs with sigmoid and relu activations, and select the best\n",
    "learning rate for each of the two networks (w/ sigmoid \n",
    "and w/ relu activations)\"\"\"\n",
    "\n",
    "\"\"\"add code below to train MLPs with sigmoid activations.\n",
    "your code should populate the arrays train_err_per_lr and\n",
    "test_err_per_lr, such that they contain the train and test\n",
    "errors of models trained with each learning rate in the\n",
    "learning_rates arrays, i.e. train_err_per_lr[1] should contain\n",
    "the final train error of a sigmoid MLP trained with a learning\n",
    "rate of 1.0\"\"\"\n",
    "\n",
    "num_epochs = 5\n",
    "batch_size = 64\n",
    "learning_rates = [5.0, 1.0, 0.5, 0.1]\n",
    "\n",
    "train_err_per_lr = []\n",
    "test_err_per_lr = []\n",
    "\n",
    "# implementation goes here\n",
    "\n",
    "np.random.seed(1234)\n",
    "edf.clear_compgraph()\n",
    "xnode = edf.Input()\n",
    "ynode = edf.Input()\n",
    "nHiddens = 64\n",
    "Phi = MLPparams(nInputs, nHiddens, nLabels)\n",
    "probnode = MLPsigmoidgraph(Phi, xnode)\n",
    "lossnode = edf.LogLoss(probnode, ynode)\n",
    "\n",
    "for lr in learning_rates:\n",
    "    edf.learning_rate = lr\n",
    "    train_err, test_err = train(num_epochs, batch_size, xnode, ynode, probnode, lossnode)\n",
    "    train_err_per_lr.append(train_err[-1])\n",
    "    test_err_per_lr.append(test_err[-1])\n",
    "    "
   ]
  },
  {
   "cell_type": "code",
   "execution_count": 32,
   "metadata": {},
   "outputs": [
    {
     "name": "stdout",
     "output_type": "stream",
     "text": [
      "0.1\n"
     ]
    }
   ],
   "source": [
    "best_sigmoid_lr = learning_rates[np.argmin(np.array(test_err_per_lr))]\n",
    "print(best_sigmoid_lr)"
   ]
  },
  {
   "cell_type": "code",
   "execution_count": 33,
   "metadata": {},
   "outputs": [
    {
     "data": {
      "image/png": "[encoded data removed]",
      "text/plain": [
       "<Figure size 432x288 with 1 Axes>"
      ]
     },
     "metadata": {
      "needs_background": "light"
     },
     "output_type": "display_data"
    },
    {
     "data": {
      "text/plain": [
       "<Figure size 432x288 with 0 Axes>"
      ]
     },
     "metadata": {},
     "output_type": "display_data"
    }
   ],
   "source": [
    "plt.xlabel(\"learning rate\")\n",
    "plt.ylabel(\"error (%)\")\n",
    "plt.plot(learning_rates, test_err_per_lr, color='red')\n",
    "plt.plot(learning_rates, train_err_per_lr, color='blue')\n",
    "plt.legend(['test error', 'train error'], loc='upper right')\n",
    "plt.show()\n",
    "plt.clf()"
   ]
  },
  {
   "cell_type": "code",
   "execution_count": 34,
   "metadata": {},
   "outputs": [
    {
     "name": "stdout",
     "output_type": "stream",
     "text": [
      "Epoch: 1/5\n",
      "\t Batch 400/937\n",
      "\t Batch 800/937\n",
      "\t Training Error 90.10 %\n",
      "\t Test Error 90.20 %\n",
      "Epoch: 2/5\n",
      "\t Batch 400/937\n",
      "\t Batch 800/937\n",
      "\t Training Error 90.27 %\n",
      "\t Test Error 90.20 %\n",
      "Epoch: 3/5\n",
      "\t Batch 400/937\n",
      "\t Batch 800/937\n",
      "\t Training Error 90.27 %\n",
      "\t Test Error 90.20 %\n",
      "Epoch: 4/5\n",
      "\t Batch 400/937\n",
      "\t Batch 800/937\n",
      "\t Training Error 90.27 %\n",
      "\t Test Error 90.20 %\n",
      "Epoch: 5/5\n",
      "\t Batch 400/937\n",
      "\t Batch 800/937\n",
      "\t Training Error 90.27 %\n",
      "\t Test Error 90.20 %\n",
      "Epoch: 1/5\n",
      "\t Batch 400/937\n",
      "\t Batch 800/937\n",
      "\t Training Error 89.42 %\n",
      "\t Test Error 89.30 %\n",
      "Epoch: 2/5\n",
      "\t Batch 400/937\n",
      "\t Batch 800/937\n",
      "\t Training Error 89.39 %\n",
      "\t Test Error 89.30 %\n",
      "Epoch: 3/5\n",
      "\t Batch 400/937\n",
      "\t Batch 800/937\n",
      "\t Training Error 89.39 %\n",
      "\t Test Error 89.30 %\n",
      "Epoch: 4/5\n",
      "\t Batch 400/937\n",
      "\t Batch 800/937\n",
      "\t Training Error 89.39 %\n",
      "\t Test Error 89.30 %\n",
      "Epoch: 5/5\n",
      "\t Batch 400/937\n",
      "\t Batch 800/937\n",
      "\t Training Error 89.39 %\n",
      "\t Test Error 89.30 %\n",
      "Epoch: 1/5\n",
      "\t Batch 400/937\n",
      "\t Batch 800/937\n",
      "\t Training Error 89.00 %\n",
      "\t Test Error 89.30 %\n",
      "Epoch: 2/5\n",
      "\t Batch 400/937\n",
      "\t Batch 800/937\n",
      "\t Training Error 89.00 %\n",
      "\t Test Error 89.30 %\n",
      "Epoch: 3/5\n",
      "\t Batch 400/937\n",
      "\t Batch 800/937\n",
      "\t Training Error 89.00 %\n",
      "\t Test Error 89.30 %\n",
      "Epoch: 4/5\n",
      "\t Batch 400/937\n",
      "\t Batch 800/937\n",
      "\t Training Error 89.00 %\n",
      "\t Test Error 89.30 %\n",
      "Epoch: 5/5\n",
      "\t Batch 400/937\n",
      "\t Batch 800/937\n",
      "\t Training Error 89.00 %\n",
      "\t Test Error 89.30 %\n",
      "Epoch: 1/5\n",
      "\t Batch 400/937\n",
      "\t Batch 800/937\n",
      "\t Training Error 88.77 %\n",
      "\t Test Error 89.30 %\n",
      "Epoch: 2/5\n",
      "\t Batch 400/937\n",
      "\t Batch 800/937\n",
      "\t Training Error 88.75 %\n",
      "\t Test Error 89.30 %\n",
      "Epoch: 3/5\n",
      "\t Batch 400/937\n",
      "\t Batch 800/937\n",
      "\t Training Error 88.75 %\n",
      "\t Test Error 89.30 %\n",
      "Epoch: 4/5\n",
      "\t Batch 400/937\n",
      "\t Batch 800/937\n",
      "\t Training Error 88.75 %\n",
      "\t Test Error 89.30 %\n",
      "Epoch: 5/5\n",
      "\t Batch 400/937\n",
      "\t Batch 800/937\n",
      "\t Training Error 88.75 %\n",
      "\t Test Error 89.30 %\n"
     ]
    }
   ],
   "source": [
    "\"\"\"now, repeat the experiment above but with a MLP with\n",
    "a ReLU activation functions in the hidden layer\"\"\"\n",
    "\n",
    "train_err_per_lr = []\n",
    "test_err_per_lr = []\n",
    "\n",
    "# implementation goes here\n",
    "\n",
    "np.random.seed(1234)\n",
    "edf.clear_compgraph()\n",
    "xnode = edf.Input()\n",
    "ynode = edf.Input()\n",
    "nHiddens = 64\n",
    "Phi = MLPparams(nInputs, nHiddens, nLabels)\n",
    "probnode = MLPrelugraph(Phi, xnode)\n",
    "lossnode = edf.LogLoss(probnode, ynode)\n",
    "\n",
    "for lr in learning_rates:\n",
    "    edf.learning_rate = lr\n",
    "    train_err, test_err = train(num_epochs, batch_size, xnode, ynode, probnode, lossnode)\n",
    "    train_err_per_lr.append(train_err[-1])\n",
    "    test_err_per_lr.append(test_err[-1])"
   ]
  },
  {
   "cell_type": "code",
   "execution_count": 35,
   "metadata": {},
   "outputs": [
    {
     "name": "stdout",
     "output_type": "stream",
     "text": [
      "1.0\n"
     ]
    }
   ],
   "source": [
    "best_relu_lr = learning_rates[np.argmin(np.array(test_err_per_lr))]\n",
    "print(best_relu_lr)"
   ]
  },
  {
   "cell_type": "code",
   "execution_count": 36,
   "metadata": {},
   "outputs": [
    {
     "data": {
      "image/png": "[encoded data removed]",
      "text/plain": [
       "<Figure size 432x288 with 1 Axes>"
      ]
     },
     "metadata": {
      "needs_background": "light"
     },
     "output_type": "display_data"
    },
    {
     "data": {
      "text/plain": [
       "<Figure size 432x288 with 0 Axes>"
      ]
     },
     "metadata": {},
     "output_type": "display_data"
    }
   ],
   "source": [
    "plt.xlabel(\"learning rate\")\n",
    "plt.ylabel(\"error (%)\")\n",
    "plt.plot(learning_rates, test_err_per_lr, color='red')\n",
    "plt.plot(learning_rates, train_err_per_lr, color='blue')\n",
    "plt.legend(['test error', 'train error'], loc='upper right')\n",
    "plt.show()\n",
    "plt.clf()"
   ]
  },
  {
   "cell_type": "markdown",
   "metadata": {},
   "source": [
    "Question 2b: Experimenting with Layers"
   ]
  },
  {
   "cell_type": "code",
   "execution_count": 56,
   "metadata": {},
   "outputs": [],
   "source": [
    "\"\"\"finally, we will check how the number of hidden layers affects\n",
    "the model's performance. start by re-implementing MLPparams such that\n",
    "it supports multiple layers (note the new nLayers argument). each of the\n",
    "nLayers-1 hidden layers should have nHiddens neurons.\"\"\"\n",
    "\n",
    "class MLPparams(edf.ParameterPackage):\n",
    "    def __init__(self,nInputs, nHiddens, nLabels, nLayers):\n",
    "        self.layers = []\n",
    "        self.layers.append(edf.AffineParams(nInputs,nHiddens))\n",
    "        for layer in range(nLayers-2):\n",
    "            self.layers.append(edf.AffineParams(nHiddens,nHiddens))\n",
    "        self.layers.append(edf.AffineParams(nHiddens,nLabels))\n",
    "        \n",
    "\"\"\"you should also re-implement MLPsigmoidgraph and MLPrelugraph\n",
    "so that they both have support for multiple layers, following your\n",
    "re-implementation of MLPparams above.\"\"\"\n",
    "        \n",
    "def MLPsigmoidgraph(Phi, x):\n",
    "    nLayers = len(Phi.layers)\n",
    "    print(\"this is the nLayers:\",nLayers)\n",
    "    h = edf.Sigmoid(edf.Affine(Phi.layers[0],x))\n",
    "    for i in range(nLayers-2):\n",
    "        h = edf.Sigmoid(edf.Affine(Phi.layers[i+1],h))\n",
    "    return edf.Softmax(edf.Affine(Phi.layers[-1],h))\n",
    "                               \n",
    "def MLPrelugraph(Phi, x):\n",
    "    nLayers = len(Phi.layers)\n",
    "    h = ReLU(edf.Affine(Phi.layers[0],x))\n",
    "    for i in range(nLayers-2):\n",
    "        h = ReLU(edf.Affine(Phi.layers[i+1],h))\n",
    "    return edf.Softmax(edf.Affine(Phi.layers[-1],h))"
   ]
  },
  {
   "cell_type": "code",
   "execution_count": 54,
   "metadata": {},
   "outputs": [
    {
     "name": "stdout",
     "output_type": "stream",
     "text": [
      "this is the nLayers: 2\n",
      "Epoch: 1/5\n",
      "\t Batch 400/937\n",
      "\t Batch 800/937\n",
      "\t Training Error 18.05 %\n",
      "\t Test Error 11.01 %\n",
      "Epoch: 2/5\n",
      "\t Batch 400/937\n",
      "\t Batch 800/937\n",
      "\t Training Error 9.90 %\n",
      "\t Test Error 9.09 %\n",
      "Epoch: 3/5\n",
      "\t Batch 400/937\n",
      "\t Batch 800/937\n",
      "\t Training Error 8.65 %\n",
      "\t Test Error 7.99 %\n",
      "Epoch: 4/5\n",
      "\t Batch 400/937\n",
      "\t Batch 800/937\n",
      "\t Training Error 7.83 %\n",
      "\t Test Error 7.26 %\n",
      "Epoch: 5/5\n",
      "\t Batch 400/937\n",
      "\t Batch 800/937\n",
      "\t Training Error 7.27 %\n",
      "\t Test Error 6.65 %\n",
      "this is the nLayers: 4\n",
      "Epoch: 1/5\n",
      "\t Batch 400/937\n",
      "\t Batch 800/937\n",
      "\t Training Error 84.15 %\n",
      "\t Test Error 52.64 %\n",
      "Epoch: 2/5\n",
      "\t Batch 400/937\n",
      "\t Batch 800/937\n",
      "\t Training Error 43.23 %\n",
      "\t Test Error 26.16 %\n",
      "Epoch: 3/5\n",
      "\t Batch 400/937\n",
      "\t Batch 800/937\n",
      "\t Training Error 20.14 %\n",
      "\t Test Error 15.17 %\n",
      "Epoch: 4/5\n",
      "\t Batch 400/937\n",
      "\t Batch 800/937\n",
      "\t Training Error 13.93 %\n",
      "\t Test Error 12.37 %\n",
      "Epoch: 5/5\n",
      "\t Batch 400/937\n",
      "\t Batch 800/937\n",
      "\t Training Error 11.40 %\n",
      "\t Test Error 10.63 %\n",
      "this is the nLayers: 6\n",
      "Epoch: 1/5\n",
      "\t Batch 400/937\n",
      "\t Batch 800/937\n",
      "\t Training Error 89.89 %\n",
      "\t Test Error 89.30 %\n",
      "Epoch: 2/5\n",
      "\t Batch 400/937\n",
      "\t Batch 800/937\n",
      "\t Training Error 89.80 %\n",
      "\t Test Error 89.30 %\n",
      "Epoch: 3/5\n",
      "\t Batch 400/937\n",
      "\t Batch 800/937\n",
      "\t Training Error 89.65 %\n",
      "\t Test Error 89.30 %\n",
      "Epoch: 4/5\n",
      "\t Batch 400/937\n",
      "\t Batch 800/937\n",
      "\t Training Error 89.63 %\n",
      "\t Test Error 89.30 %\n",
      "Epoch: 5/5\n",
      "\t Batch 400/937\n",
      "\t Batch 800/937\n",
      "\t Training Error 89.44 %\n",
      "\t Test Error 89.30 %\n"
     ]
    }
   ],
   "source": [
    "\"\"\"similarly to the exploration with different learning rates,\n",
    "you will see how the depth of the network affects its performance,\n",
    "first for a sigmoid network. fill the missing code to populate\n",
    "train_err_per_depth and test_err_per_depth accordingly\"\"\"\n",
    "\n",
    "edf.learning_rate = best_sigmoid_lr\n",
    "num_epochs = 5\n",
    "batch_size = 64\n",
    "num_layers = [2, 4, 6]\n",
    "\n",
    "train_err_per_depth = []\n",
    "test_err_per_depth = []\n",
    "\n",
    "# implementation goes here\n",
    "for nLayers in num_layers:\n",
    "    np.random.seed(1234)\n",
    "    edf.clear_compgraph()\n",
    "    xnode = edf.Input()\n",
    "    ynode = edf.Input()\n",
    "    nHiddens = 64\n",
    "    Phi = MLPparams(nInputs,nHiddens,nLabels,nLayers)\n",
    "    probnode = MLPsigmoidgraph(Phi,xnode)\n",
    "    lossnode = edf.LogLoss(probnode,ynode)\n",
    "    train_err, test_err = train(num_epochs,batch_size,xnode,ynode,probnode,lossnode)\n",
    "    train_err_per_depth.append(train_err[-1])\n",
    "    test_err_per_depth.append(test_err[-1])"
   ]
  },
  {
   "cell_type": "code",
   "execution_count": 55,
   "metadata": {},
   "outputs": [
    {
     "data": {
      "image/png": "[encoded data removed]",
      "text/plain": [
       "<Figure size 432x288 with 1 Axes>"
      ]
     },
     "metadata": {
      "needs_background": "light"
     },
     "output_type": "display_data"
    },
    {
     "data": {
      "text/plain": [
       "<Figure size 432x288 with 0 Axes>"
      ]
     },
     "metadata": {},
     "output_type": "display_data"
    }
   ],
   "source": [
    "plt.xlabel(\"depth\")\n",
    "plt.ylabel(\"error (%)\")\n",
    "plt.plot(num_layers, test_err_per_depth, color='red')\n",
    "plt.plot(num_layers, train_err_per_depth, color='blue')\n",
    "plt.legend(['test error', 'train error'], loc='upper right')\n",
    "plt.show()\n",
    "plt.clf()"
   ]
  },
  {
   "cell_type": "code",
   "execution_count": 57,
   "metadata": {},
   "outputs": [
    {
     "name": "stdout",
     "output_type": "stream",
     "text": [
      "Epoch: 1/5\n",
      "\t Batch 400/937\n",
      "\t Batch 800/937\n",
      "\t Training Error 27.48 %\n",
      "\t Test Error 14.94 %\n",
      "Epoch: 2/5\n",
      "\t Batch 400/937\n",
      "\t Batch 800/937\n",
      "\t Training Error 9.31 %\n",
      "\t Test Error 9.47 %\n",
      "Epoch: 3/5\n",
      "\t Batch 400/937\n",
      "\t Batch 800/937\n",
      "\t Training Error 7.75 %\n",
      "\t Test Error 8.24 %\n",
      "Epoch: 4/5\n",
      "\t Batch 400/937\n",
      "\t Batch 800/937\n",
      "\t Training Error 6.75 %\n",
      "\t Test Error 7.83 %\n",
      "Epoch: 5/5\n",
      "\t Batch 400/937\n",
      "\t Batch 800/937\n",
      "\t Training Error 6.34 %\n",
      "\t Test Error 6.40 %\n",
      "Epoch: 1/5\n",
      "\t Batch 400/937\n",
      "\t Batch 800/937\n",
      "\t Training Error 79.69 %\n",
      "\t Test Error 73.24 %\n",
      "Epoch: 2/5\n",
      "\t Batch 400/937\n",
      "\t Batch 800/937\n",
      "\t Training Error 83.50 %\n",
      "\t Test Error 89.30 %\n",
      "Epoch: 3/5\n",
      "\t Batch 400/937\n",
      "\t Batch 800/937\n",
      "\t Training Error 90.07 %\n",
      "\t Test Error 89.30 %\n",
      "Epoch: 4/5\n",
      "\t Batch 400/937\n",
      "\t Batch 800/937\n",
      "\t Training Error 89.82 %\n",
      "\t Test Error 89.30 %\n",
      "Epoch: 5/5\n",
      "\t Batch 400/937\n",
      "\t Batch 800/937\n",
      "\t Training Error 89.39 %\n",
      "\t Test Error 89.30 %\n",
      "Epoch: 1/5\n",
      "\t Batch 400/937\n",
      "\t Batch 800/937\n",
      "\t Training Error 88.97 %\n",
      "\t Test Error 89.30 %\n",
      "Epoch: 2/5\n",
      "\t Batch 400/937\n",
      "\t Batch 800/937\n",
      "\t Training Error 89.39 %\n",
      "\t Test Error 89.30 %\n",
      "Epoch: 3/5\n",
      "\t Batch 400/937\n",
      "\t Batch 800/937\n",
      "\t Training Error 89.39 %\n",
      "\t Test Error 89.30 %\n",
      "Epoch: 4/5\n",
      "\t Batch 400/937\n",
      "\t Batch 800/937\n",
      "\t Training Error 89.39 %\n",
      "\t Test Error 89.30 %\n",
      "Epoch: 5/5\n",
      "\t Batch 400/937\n",
      "\t Batch 800/937\n",
      "\t Training Error 89.39 %\n",
      "\t Test Error 89.30 %\n"
     ]
    }
   ],
   "source": [
    "\"\"\"repeat the above experiment but for a ReLU MLP\"\"\"\n",
    "\n",
    "edf.learning_rate = best_relu_lr\n",
    "num_epochs = 5\n",
    "batch_size = 64\n",
    "num_layers = [3, 5, 10]\n",
    "\n",
    "train_err_per_depth = []\n",
    "test_err_per_depth = []\n",
    "\n",
    "# implementation goes here\n",
    "for nLayers in num_layers:\n",
    "    np.random.seed(1234)\n",
    "    edf.clear_compgraph()\n",
    "    xnode = edf.Input()\n",
    "    ynode = edf.Input()\n",
    "    nHiddens = 64\n",
    "    Phi = MLPparams(nInputs,nHiddens,nLabels,nLayers)\n",
    "    probnode = MLPrelugraph(Phi,xnode)\n",
    "    lossnode = edf.LogLoss(probnode,ynode)\n",
    "    train_err, test_err = train(num_epochs,batch_size,xnode,ynode,probnode,lossnode)\n",
    "    train_err_per_depth.append(train_err[-1])\n",
    "    test_err_per_depth.append(test_err[-1])"
   ]
  },
  {
   "cell_type": "code",
   "execution_count": 58,
   "metadata": {},
   "outputs": [
    {
     "data": {
      "image/png": "[encoded data removed]",
      "text/plain": [
       "<Figure size 432x288 with 1 Axes>"
      ]
     },
     "metadata": {
      "needs_background": "light"
     },
     "output_type": "display_data"
    },
    {
     "data": {
      "text/plain": [
       "<Figure size 432x288 with 0 Axes>"
      ]
     },
     "metadata": {},
     "output_type": "display_data"
    }
   ],
   "source": [
    "plt.xlabel(\"learning rate\")\n",
    "plt.ylabel(\"error (%)\")\n",
    "plt.plot(num_layers, test_err_per_depth, color='red')\n",
    "plt.plot(num_layers, train_err_per_depth, color='blue')\n",
    "plt.legend(['test error', 'train error'], loc='upper right')\n",
    "plt.show()\n",
    "plt.clf()"
   ]
  }
 ],
 "metadata": {
  "anaconda-cloud": {},
  "kernelspec": {
   "display_name": "Python 3",
   "language": "python",
   "name": "python3"
  },
  "language_info": {
   "codemirror_mode": {
    "name": "ipython",
    "version": 3
   },
   "file_extension": ".py",
   "mimetype": "text/x-python",
   "name": "python",
   "nbconvert_exporter": "python",
   "pygments_lexer": "ipython3",
   "version": "3.8.3"
  }
 },
 "nbformat": 4,
 "nbformat_minor": 1
}
